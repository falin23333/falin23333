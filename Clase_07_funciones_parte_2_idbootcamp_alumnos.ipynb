{
  "nbformat": 4,
  "nbformat_minor": 0,
  "metadata": {
    "colab": {
      "provenance": [],
      "collapsed_sections": [],
      "include_colab_link": true
    },
    "kernelspec": {
      "display_name": "Python 3",
      "language": "python",
      "name": "python3"
    },
    "language_info": {
      "codemirror_mode": {
        "name": "ipython",
        "version": 3
      },
      "file_extension": ".py",
      "mimetype": "text/x-python",
      "name": "python",
      "nbconvert_exporter": "python",
      "pygments_lexer": "ipython3",
      "version": "3.7.3"
    }
  },
  "cells": [
    {
      "cell_type": "markdown",
      "metadata": {
        "id": "view-in-github",
        "colab_type": "text"
      },
      "source": [
        "<a href=\"https://colab.research.google.com/github/falin23333/falin23333/blob/main/Clase_07_funciones_parte_2_idbootcamp_alumnos.ipynb\" target=\"_parent\"><img src=\"https://colab.research.google.com/assets/colab-badge.svg\" alt=\"Open In Colab\"/></a>"
      ]
    },
    {
      "cell_type": "markdown",
      "metadata": {
        "id": "aDaMLDnAPBMf"
      },
      "source": [
        "\n",
        "<div style=\"text-align: left\"><img src=\"https://encrypted-tbn0.gstatic.com/images?q=tbn:ANd9GcTBPtuRucr_9WOZ-DOIie_vrhYHmihX_mvQOw&usqp=CAU\" width=\"600\" /></div>\n",
        "\n",
        "**Docentes:** Verónica Barraza y Diego Frigerio \n",
        "![orange-divider](https://user-images.githubusercontent.com/7065401/98619088-44ab6000-22e1-11eb-8f6d-5532e68ab274.png) \n",
        "\n",
        "\n",
        "# Diccionarios\n",
        "\n",
        "Los diccionarios son tipos de datos que nos permiten guardar valores, a los que se puede acceder por medio de una clave. Son tipos de datos mutables y los campos no tienen asignado orden\n",
        "\n",
        "Los diccionarios, al igual que las litas, son tipos de datos mutable. Por lo tanto podemos encontrar situaciones similares a las que explicamos en su momentos con las listas.\n",
        "\n",
        "En el siguiente [link](https://plataforma.josedomingo.org/pledin/cursos/python3/curso/u34/index.html) van a encontrar más información sobre los métodos asociados a los diccionarios"
      ]
    },
    {
      "cell_type": "code",
      "source": [
        "diccionario = {\n",
        "        'int': 7,\n",
        "        'str': 'Hola',\n",
        "        'bool': True,\n",
        "        'float':3.5\n",
        "        }"
      ],
      "metadata": {
        "id": "todV32xvjO8P"
      },
      "execution_count": null,
      "outputs": []
    },
    {
      "cell_type": "code",
      "source": [
        "diccionario"
      ],
      "metadata": {
        "colab": {
          "base_uri": "https://localhost:8080/"
        },
        "id": "V-ZwIVtAPUK9",
        "outputId": "28ec3694-a2eb-455b-ca76-e301e697655a"
      },
      "execution_count": null,
      "outputs": [
        {
          "output_type": "execute_result",
          "data": {
            "text/plain": [
              "{'int': 7, 'str': 'Hola', 'bool': True, 'float': 3.5}"
            ]
          },
          "metadata": {},
          "execution_count": 2
        }
      ]
    },
    {
      "cell_type": "markdown",
      "source": [
        "Los diccionarios en Python son objetos que se utilizan para almacenar valores de datos en pares key:value. Donde key es el índice como lo vemos en la figura anterior, y el value es el valor almacenado dentro del índice.\n",
        "\n",
        "Un diccionario es una colección ordenada, modificable y que no admite duplicados. Los diccionarios se escriben con llaves y tienen claves y valores:"
      ],
      "metadata": {
        "id": "ObvfeY42jSoM"
      }
    },
    {
      "cell_type": "code",
      "source": [
        "# diccionario que almacena masas molares de tres sustancias\n",
        "# los índices de objetos son cadenas que contienen fórmulas de sustancias\n",
        "masas_molares = {'H20': 18, 'CO2': 44, 'H2': 2}\n",
        "print (masas_molares['H20'])"
      ],
      "metadata": {
        "id": "ANYBbZzkjUgw",
        "colab": {
          "base_uri": "https://localhost:8080/"
        },
        "outputId": "9cbd67ad-c193-4327-a092-c776cd44b383"
      },
      "execution_count": null,
      "outputs": [
        {
          "output_type": "stream",
          "name": "stdout",
          "text": [
            "18\n"
          ]
        }
      ]
    },
    {
      "cell_type": "code",
      "source": [
        "# diccionario que almacena a los ganadores de la Copa Mundial de la FIFA de 1990 a 2014\n",
        "# los índices de objetos son números enteros que representan los años de los corazones\n",
        "vencedores_copas = {1990: 'Alemania', 1994: 'Brasil', 1998: 'Francia',\\\n",
        "                    2002: 'Brasil', 2006: 'Itália', 2010: 'Espana',\\\n",
        "                    2014: 'Alemania', 2018: 'Francia'}\n",
        "print(vencedores_copas[1994])"
      ],
      "metadata": {
        "id": "3qQAogD2jWfE",
        "colab": {
          "base_uri": "https://localhost:8080/"
        },
        "outputId": "091d3e6a-ea61-406a-a68e-ab123ceb18f0"
      },
      "execution_count": null,
      "outputs": [
        {
          "output_type": "stream",
          "name": "stdout",
          "text": [
            "Brasil\n"
          ]
        }
      ]
    },
    {
      "cell_type": "markdown",
      "source": [
        "Los diccionarios no pueden tener dos elementos con la misma clave o llave:"
      ],
      "metadata": {
        "id": "0JcaYXJHjeAl"
      }
    },
    {
      "cell_type": "code",
      "source": [
        "ano_nacimiento = {\n",
        "  1990: 'Juan'\n",
        "  1985: 'Erica'\n",
        "  2001: 'Samanta'\n",
        "  2001: 'Fernanda'\n",
        "}\n",
        "print(ano_nacimiento)"
      ],
      "metadata": {
        "id": "9AWfBJg1jeYi",
        "colab": {
          "base_uri": "https://localhost:8080/",
          "height": 133
        },
        "outputId": "c40ff975-ed51-451c-c7c6-366a0e26e7fb"
      },
      "execution_count": null,
      "outputs": [
        {
          "output_type": "error",
          "ename": "SyntaxError",
          "evalue": "ignored",
          "traceback": [
            "\u001b[0;36m  File \u001b[0;32m\"<ipython-input-8-65d00bdf3ed5>\"\u001b[0;36m, line \u001b[0;32m3\u001b[0m\n\u001b[0;31m    1985: 'Erica'\u001b[0m\n\u001b[0m       ^\u001b[0m\n\u001b[0;31mSyntaxError\u001b[0m\u001b[0;31m:\u001b[0m invalid syntax\n"
          ]
        }
      ]
    },
    {
      "cell_type": "markdown",
      "source": [
        "También podemos utilizar otros métodos para manejar de forma sencilla todos los datos de un diccionario:\n",
        "\n",
        "* clear(): elimina todos los datos de un diccionario. Ej: diccionario.clear()\n",
        "* get(clave): permite consultar uno de los datos guardados. Ej: diccionario.get(nombre)\n",
        "* pop(clave): permite eliminar un elemento del diccionario. Ej: diccionario.pop(edad)\n",
        "* setdefault(): permite agregar un nuevo elemento al diccionario. Ej: diccionario.setdefault(‘telefono’:229589837)\n",
        "* diccionario[‘xx’] =’xx’ permite modificar un dato del diccionario"
      ],
      "metadata": {
        "id": "Ncc9bLumkR_P"
      }
    },
    {
      "cell_type": "markdown",
      "source": [
        "**Ejercicio 1** Escribir un programa que guarde en una variable el diccionario {'Euro':'€', 'Dollar':'$', 'Yen':'¥'}, pregunte al usuario por una divisa y muestre su símbolo o un mensaje de aviso si la divisa no está en el diccionario."
      ],
      "metadata": {
        "id": "-_zbWIf2fQtS"
      }
    },
    {
      "cell_type": "code",
      "source": [],
      "metadata": {
        "id": "uVEBYOF5fcaw"
      },
      "execution_count": null,
      "outputs": []
    },
    {
      "cell_type": "markdown",
      "source": [
        "**Ejercicio 2.** Tenemos un libro de 1357 páginas y queremos saber cuantas veces aparece el número 7 escrito en los números de las páginas"
      ],
      "metadata": {
        "id": "IqmAoJV1wM0V"
      }
    },
    {
      "cell_type": "code",
      "source": [],
      "metadata": {
        "id": "P4q_koZVwM9z"
      },
      "execution_count": null,
      "outputs": []
    },
    {
      "cell_type": "markdown",
      "source": [
        "**Ejercicio 3** Escribir un programa que pregunte al usuario su nombre, edad, dirección y teléfono y lo guarde en un diccionario. Después debe mostrar por pantalla el mensaje <nombre> tiene <edad> años, vive en <dirección> y su número de teléfono es <teléfono>."
      ],
      "metadata": {
        "id": "xgU1V8zZfYuB"
      }
    },
    {
      "cell_type": "code",
      "source": [
        "diccionario = dict()\n",
        "diccionario[\"Nombre\"] = input(\"Nombre: \")\n",
        "diccionario[\"Edad\"] = input(\"edad: \")\n",
        "diccionario[\"Direccion\"] = input(\"direccion: \")\n",
        "diccionario[\"Telefono\"] = input(\"telefono: \")\n",
        "\n",
        "\n",
        "print(diccionario[\"Nombre\"] + \" tiene \" +  diccionario[\"Edad\"] + \" años y vive en \" + diccionario[\"Direccion\"] + \" su telefono es \" + diccionario[\"Telefono\"])"
      ],
      "metadata": {
        "id": "A1scdowwfYIf",
        "colab": {
          "base_uri": "https://localhost:8080/"
        },
        "outputId": "e78410e4-901e-49b6-a2cb-8cac76a9a407"
      },
      "execution_count": null,
      "outputs": [
        {
          "output_type": "stream",
          "name": "stdout",
          "text": [
            "Nombre: rafa\n",
            "edad: 34\n",
            "direccion: jaen\n",
            "telefono: 666666666\n",
            "rafa tiene 34 años y vive en jaensu telefono es666666666\n"
          ]
        }
      ]
    },
    {
      "cell_type": "markdown",
      "source": [
        "**Ejercicio 4** Escribir un programa que cree un diccionario vacío y lo vaya llenado con información sobre una persona (por ejemplo nombre, edad, sexo, teléfono, correo electrónico, etc.) que se le pida al usuario. Cada vez que se añada un nuevo dato debe imprimirse el contenido del diccionario (se puede agregar una pregunta para ver si el usuario quiere agregar información, si la respuesta es SI, continuar, y sino finalizar)."
      ],
      "metadata": {
        "id": "ewGVz563fohN"
      }
    },
    {
      "cell_type": "code",
      "source": [
        "diccionario = dict()\n",
        "\n",
        "i = 0\n",
        "while True:\n",
        "  \n",
        "  diccionario[\"Nombre\"] = input(\"Nombre: \")\n",
        "  diccionario[\"Edad\"] = input(\"edad: \")\n",
        "  diccionario[\"sexo\"] = input(\"sexo: \")\n",
        "  diccionario[\"Telefono\"] = input(\"telefono: \")\n",
        "  diccionario[\"mail\"] = input(\"mail: \")\n",
        "  \n",
        "  print(diccionario[\"Nombre\"] + \" tiene \" +  diccionario[\"Edad\"] + \" su sexo es \" + diccionario[\"sexo\"] + \" , su movil y mail es  \" + diccionario[\"Telefono\"] + \" \" + diccionario[\"mail\"])\n",
        "  \n",
        "  opcion = input(\"desea continuar si/no: \")\n",
        "  if opcion != \"si\":\n",
        "    break\n",
        "\n"
      ],
      "metadata": {
        "id": "-0EuMq4Zf00u",
        "outputId": "925277d1-fd56-45b8-fbb7-e4654a952dee",
        "colab": {
          "base_uri": "https://localhost:8080/"
        }
      },
      "execution_count": null,
      "outputs": [
        {
          "name": "stdout",
          "output_type": "stream",
          "text": [
            "Nombre: rafa\n",
            "edad: 56\n",
            "sexo: varon\n",
            "telefono: 666666666\n",
            "mail: faile@htmail.com\n",
            "rafa tiene 56 su sexo es varon , su movil y mail es  666666666 faile@htmail.com\n",
            "desea continuar si/no: no\n"
          ]
        }
      ]
    },
    {
      "cell_type": "markdown",
      "source": [
        "**Ejercicio 5** Escribe un programa que lea una cadena y devuelva un diccionario con la cantidad de apariciones de cada palabra en la cadena. Por ejemplo, si recibe “Qué lindo día que hace hoy” debe devolver: ‘que’: 2, ‘lindo’: 1, ‘día’: 1, ‘hace’: 1, ‘hoy’: 1\n",
        "\n",
        "Ayuda: ver el método split() para un string"
      ],
      "metadata": {
        "id": "nfoqVVI6f6cn"
      }
    },
    {
      "cell_type": "code",
      "source": [
        "a = \"hola hola hola que que y y qué\"\n",
        "dic1 = dict()\n",
        "\n",
        "for palabra in a.split():\n",
        "    if palabra in dic1.keys():\n",
        "        dic1[palabra] += 1\n",
        "    else:\n",
        "        dic1[palabra] = 1\n",
        "\n",
        "print(dic1)\n",
        "\n"
      ],
      "metadata": {
        "colab": {
          "base_uri": "https://localhost:8080/"
        },
        "id": "IDwNU3pbh4Uf",
        "outputId": "54b993cc-4176-4073-9854-d3fb2ec06c41"
      },
      "execution_count": null,
      "outputs": [
        {
          "output_type": "stream",
          "name": "stdout",
          "text": [
            "{'hola': 3, 'que': 2, 'y': 2, 'qué': 1}\n"
          ]
        }
      ]
    },
    {
      "cell_type": "markdown",
      "source": [
        "**Objetos mutables e inmutables**\n",
        "\n",
        "Un objeto se dice mutable si se puede modificar, y se dice inmutable en caso contrario. En python,\n",
        "todos los objetos normales son inmutables salvo\n",
        "\n",
        "• las listas\n",
        "\n",
        "• los conjuntos\n",
        "\n",
        "• los diccionarios\n",
        "\n",
        "Es decir: los enteros, los strings, los floats, los bools son todos imutables.\n",
        "Hay que tener especial cuidado con la asignación con objetos mutables. Por ejemplo:"
      ],
      "metadata": {
        "id": "6DQLHK5qknLO"
      }
    },
    {
      "cell_type": "code",
      "source": [
        "L1 = [1,2,3]\n",
        "L2 = L1\n",
        "L1[0] = 10\n",
        "print(L2) # Como L2 estaba apuntando al mismo objeto que L1,\n",
        "# aparecerá [10, 2, 3]"
      ],
      "metadata": {
        "colab": {
          "base_uri": "https://localhost:8080/"
        },
        "id": "mIOdLZ7NlRqD",
        "outputId": "2cda6d6b-7837-4e7b-9908-bbc1e1e5833a"
      },
      "execution_count": null,
      "outputs": [
        {
          "output_type": "stream",
          "name": "stdout",
          "text": [
            "[10, 2, 3]\n"
          ]
        }
      ]
    },
    {
      "cell_type": "markdown",
      "source": [
        "Es decir, cuando hacemos L1[0] = 10 estamos modificando el objeto mutable [1,2,3] a\n",
        "[10,2,3]. Como L2 estaba apuntando a este objeto, queda L2 = [10, 2, 3].\n",
        "Sin embargo, si volvemos al ejemplo anterior:"
      ],
      "metadata": {
        "id": "8_HEvoi8lWkY"
      }
    },
    {
      "cell_type": "code",
      "source": [
        "a = 5\n",
        "b = a\n",
        "a = a + 1\n",
        "print(b)"
      ],
      "metadata": {
        "colab": {
          "base_uri": "https://localhost:8080/"
        },
        "id": "W1nnNBvNlUI5",
        "outputId": "3349b96a-0631-4fd7-c71b-57674d7ce2b0"
      },
      "execution_count": null,
      "outputs": [
        {
          "output_type": "stream",
          "name": "stdout",
          "text": [
            "5\n"
          ]
        }
      ]
    },
    {
      "cell_type": "markdown",
      "source": [
        "vemos que b no se ha modificado porque el objeto al que apuntaba a (i.e. 5) es inmutable,\n",
        "entonces cuando decimos a = a+1 estamos en verdad creando un objeto nuevo (en este caso 6)\n",
        "y haciendo que a apunte a él."
      ],
      "metadata": {
        "id": "d2-41KLKljnT"
      }
    },
    {
      "cell_type": "markdown",
      "source": [
        "## Funciones\n",
        "\n",
        "Introducción a la programación estructurada y modularPermalink\n",
        "La programación estructurada es un paradigma de programación orientado a mejorar la claridad, calidad y tiempo de desarrollo de un programa de ordenador, utilizando únicamente subrutinas (funciones o procedimientos) y tres estructuras: secuencia, alternativas y repetitivas.\n",
        "\n",
        "La programación modular es un paradigma de programación que consiste en dividir un programa en módulos o subprogramas con el fin de hacerlo más legible y manejable.\n",
        "\n",
        "Al aplicar la programación modular, un problema complejo debe ser dividido en varios subproblemas más simples, y estos a su vez en otros subproblemas más simples. Esto debe hacerse hasta obtener subproblemas lo suficientemente simples como para poder ser resueltos fácilmente con algún lenguaje de programación (divide y vencerás).\n",
        "\n",
        "La programación estructural y modular se lleva a cabo en python3 con la definición de funciones.\n",
        "\n"
      ],
      "metadata": {
        "id": "Y9rUofFsoYuf"
      }
    },
    {
      "cell_type": "markdown",
      "source": [
        "**Ejercicio 1:**  \n",
        "Definir una función mayor() que tome como argumento dos números y devuelva el mayor de ellos.\n"
      ],
      "metadata": {
        "id": "uEtmIGOgCews"
      }
    },
    {
      "cell_type": "code",
      "source": [
        "def mayor_numero(a,b):\n",
        "  return max(a,b)\n",
        "\n",
        "\n",
        "mayor_numero(4,7)"
      ],
      "metadata": {
        "id": "hK0ULLvBDCcg",
        "colab": {
          "base_uri": "https://localhost:8080/"
        },
        "outputId": "94848b77-9f75-4d5c-b69d-2f8069ba25a4"
      },
      "execution_count": null,
      "outputs": [
        {
          "output_type": "execute_result",
          "data": {
            "text/plain": [
              "7"
            ]
          },
          "metadata": {},
          "execution_count": 1
        }
      ]
    },
    {
      "cell_type": "markdown",
      "source": [
        "Ahora genere una nueva función mayor pero que tome como argumento tres numeros"
      ],
      "metadata": {
        "id": "CC9t38lgFYAG"
      }
    },
    {
      "cell_type": "code",
      "source": [
        "def mayor_numero(a,b,c):\n",
        "  return max(a,b,c)\n",
        "mayor_numero(45,76,1)"
      ],
      "metadata": {
        "id": "sT0kVdoWFYI7",
        "colab": {
          "base_uri": "https://localhost:8080/"
        },
        "outputId": "2d1cd9f8-6a06-4729-ad3f-b6c53bbd4ef2"
      },
      "execution_count": null,
      "outputs": [
        {
          "output_type": "execute_result",
          "data": {
            "text/plain": [
              "76"
            ]
          },
          "metadata": {},
          "execution_count": 2
        }
      ]
    },
    {
      "cell_type": "markdown",
      "source": [
        "Ahora hacer una función que tome como argumento una lista positiva y devuelva el numero mayor"
      ],
      "metadata": {
        "id": "14Al5sR0JH5T"
      }
    },
    {
      "cell_type": "code",
      "source": [
        "lista1 = [3,4,5,6,7,8,9,0,7,6,55,44,33,44,55,66,67]\n",
        "\n",
        "def mayor_lista(lista):\n",
        "  return max(lista)\n",
        "\n",
        "mayor_lista(lista1)"
      ],
      "metadata": {
        "colab": {
          "base_uri": "https://localhost:8080/"
        },
        "id": "7mLt1zb6JSPi",
        "outputId": "bcd64119-8156-45b0-d7a7-464b1581379e"
      },
      "execution_count": null,
      "outputs": [
        {
          "output_type": "execute_result",
          "data": {
            "text/plain": [
              "67"
            ]
          },
          "metadata": {},
          "execution_count": 4
        }
      ]
    },
    {
      "cell_type": "markdown",
      "source": [
        "**Ejercicio 2:** Escriba un programa que pida un año y que escriba si es bisiesto o no.\n",
        "\n",
        "Se recuerda que los años bisiestos son múltiplos de 4, pero los múltiplos de 100 no lo son, aunque los múltiplos de 400 sí.\n",
        "\n",
        "Estos son algunos ejemplos de posibles respuestas: 2012 es bisiesto, 2010 no es bisiesto, 2000 es bisiesto, 1900 no es bisiesto."
      ],
      "metadata": {
        "id": "-LTLKE3k2zPB"
      }
    },
    {
      "cell_type": "code",
      "source": [
        "def bisiesto(anyo):\n",
        "  if anyo%4 == 0 and anyo%100!=0 :\n",
        "    print(\"es bisiesto\")\n",
        "  else:\n",
        "    print(\"pues no lo es\")\n",
        "\n",
        "bisiesto(2012)\n",
        "bisiesto(2010)\n",
        "bisiesto(2000)\n",
        "bisiesto(1900)"
      ],
      "metadata": {
        "id": "FNUzUppSFp8v",
        "colab": {
          "base_uri": "https://localhost:8080/"
        },
        "outputId": "441420c0-efc3-47b2-beb9-add06a94eb73"
      },
      "execution_count": null,
      "outputs": [
        {
          "output_type": "stream",
          "name": "stdout",
          "text": [
            "es bisiesto\n",
            "pues no lo es\n",
            "pues no lo es\n",
            "pues no lo es\n"
          ]
        }
      ]
    },
    {
      "cell_type": "markdown",
      "source": [
        "def factorial**Ejercicio 3** Crear una función recursiva que calcule el factorial de un número."
      ],
      "metadata": {
        "id": "JN8a3SIO79c5"
      }
    },
    {
      "cell_type": "code",
      "source": [
        "\"\"\"def factorial(num):\n",
        "  a  = num*factorial(num-1)  \n",
        "  return a\n",
        "a = factorial(4)\n",
        "\"\"\"\n",
        "import math\n",
        "print(math.factorial(4))"
      ],
      "metadata": {
        "id": "O8v-g5hm80bK",
        "colab": {
          "base_uri": "https://localhost:8080/"
        },
        "outputId": "5733560b-2010-4d6a-b4c8-4f60068d768b"
      },
      "execution_count": null,
      "outputs": [
        {
          "output_type": "stream",
          "name": "stdout",
          "text": [
            "24\n"
          ]
        }
      ]
    },
    {
      "cell_type": "markdown",
      "source": [
        "**Un poco más complejos**"
      ],
      "metadata": {
        "id": "w_PQkvyt7-rR"
      }
    },
    {
      "cell_type": "markdown",
      "source": [
        "**Ejercicio 4** Escribir una funcion sum() y una función multip() que sumen y multipliquen respectivamente\n",
        "todos los números de una lista. \n",
        "\n",
        "Por ejemplo: sum([1,2,3,4]) debería devolver 10 y multip([1,2,3,4])\n",
        "debería devolver 24.\n",
        "\n"
      ],
      "metadata": {
        "id": "ftj4Ob-O2Lbv"
      }
    },
    {
      "cell_type": "code",
      "source": [],
      "metadata": {
        "id": "RqKmIPgR292K"
      },
      "execution_count": null,
      "outputs": []
    },
    {
      "cell_type": "markdown",
      "source": [
        "**Ejercicio 5** Definir una función superposicion() que tome dos listas y devuelva True si tienen al menos 1 miembro en común o devuelva False de lo contrario. Escribir la función usando el bucle for anidado. \n"
      ],
      "metadata": {
        "id": "A6J90SRm3A0t"
      }
    },
    {
      "cell_type": "code",
      "source": [
        "def superposicion(lista1,lista2):\n",
        "  for i in lista1:\n",
        "    for j in lista2:\n",
        "      if j==i: return True\n",
        "  return False\n",
        "        \n",
        "        \n",
        "\n",
        "\n",
        "lista = [1,2,3,4,5,6,7]\n",
        "lista2 = [8,9,10]\n",
        "print(superposicion(lista,lista2))"
      ],
      "metadata": {
        "colab": {
          "base_uri": "https://localhost:8080/"
        },
        "id": "Nu_64bZM3KqF",
        "outputId": "f30bbdb2-8ead-45d7-c650-ff38b076ebed"
      },
      "execution_count": null,
      "outputs": [
        {
          "output_type": "stream",
          "name": "stdout",
          "text": [
            "False\n"
          ]
        }
      ]
    },
    {
      "cell_type": "markdown",
      "source": [
        "**Ejercicio 6** Definir una función generar_n_caracteres() que tome un entero n y devuelva el caracter multiplicado por n. Por ejemplo: generar_n_caracteres(5, \"x\") debería devolver \"xxxxx\".\n"
      ],
      "metadata": {
        "id": "7zLx-sXCGONy"
      }
    },
    {
      "cell_type": "code",
      "source": [
        "def generar_n_caracteres(n,x):\n",
        "  for i in range(n):\n",
        "    print(x)\n",
        "generar_n_caracteres(10,\"a\")"
      ],
      "metadata": {
        "id": "7r6tUdjGGUF2",
        "colab": {
          "base_uri": "https://localhost:8080/"
        },
        "outputId": "e6779fad-3c6e-4be1-ac9c-50c39aa9ccca"
      },
      "execution_count": null,
      "outputs": [
        {
          "output_type": "stream",
          "name": "stdout",
          "text": [
            "a\n",
            "a\n",
            "a\n",
            "a\n",
            "a\n",
            "a\n",
            "a\n",
            "a\n",
            "a\n",
            "a\n"
          ]
        }
      ]
    },
    {
      "cell_type": "markdown",
      "source": [
        "## Introducción a las matrices con python\n",
        "\n",
        "La matrices no son una estructura propia de Python. Simplemente, una matriz es una\n",
        "lista de listas que nosotros interpretamos desde el punto de vista matemático. Es decir,\n",
        "la estructura m = [[1,2],[3,4]] nosotros la interpretamos como la matriz 2x2 cuya\n",
        "primera fila es (1,2) y cuya segunda fila es (3,4), pero esto no deja de ser una\n",
        "interpretación."
      ],
      "metadata": {
        "id": "e6_eNWuKpMLu"
      }
    },
    {
      "cell_type": "code",
      "source": [
        "m = [[1,2],[3,4]]"
      ],
      "metadata": {
        "id": "L5YfAb3NpLL6"
      },
      "execution_count": null,
      "outputs": []
    },
    {
      "cell_type": "markdown",
      "source": [
        "Para representar una matriz, debemos crear una función específica."
      ],
      "metadata": {
        "id": "5W42vPHxpWMl"
      }
    },
    {
      "cell_type": "code",
      "source": [
        "def creaMatriz(n,m):\n",
        " '''\n",
        " Esta función crea una matríz vacía con n filas y n columnas.\n",
        " @param n : Número de filas.\n",
        " @param m : Número de columnas\n",
        " @type n: int\n",
        " @type m: int\n",
        " @return: devuelve una matriz n por m\n",
        " @rtype: matriz (lista de listas)\n",
        " '''\n",
        " matriz = []\n",
        " for i in range(n):\n",
        "  a = [0]*m\n",
        "  matriz.append(a)\n",
        " return matriz"
      ],
      "metadata": {
        "id": "bESOB6VxpWts"
      },
      "execution_count": null,
      "outputs": []
    },
    {
      "cell_type": "code",
      "source": [
        "creaMatriz(2,3)"
      ],
      "metadata": {
        "colab": {
          "base_uri": "https://localhost:8080/"
        },
        "id": "srLgN10gpqRw",
        "outputId": "b3c69150-5a8b-4700-9480-f1f798c8e9af"
      },
      "execution_count": null,
      "outputs": [
        {
          "output_type": "execute_result",
          "data": {
            "text/plain": [
              "[[0, 0, 0], [0, 0, 0]]"
            ]
          },
          "metadata": {},
          "execution_count": 2
        }
      ]
    },
    {
      "cell_type": "code",
      "source": [
        "def creaMatrizDato(n,m, dato):\n",
        " '''\n",
        " Esta función crea una matríz con n filas y n columnas.\n",
        " Cada celda contiene el valor \"dato\"\n",
        " @param n : Número de filas.\n",
        " @param m : Número de columnas\n",
        " @param dato: Un valor\n",
        " @type n: entero\n",
        " @type m: entero\n",
        " @type dato: tipo simple\n",
        " @return: devuelve una matriz n por m\n",
        " @rtype: matriz (lista de listas)\n",
        " '''\n",
        " matriz = []\n",
        " for i in range(n):\n",
        "  a = [dato]*m\n",
        "  matriz.append(a)\n",
        " return matriz"
      ],
      "metadata": {
        "id": "VS50t_I3p6O4"
      },
      "execution_count": null,
      "outputs": []
    },
    {
      "cell_type": "code",
      "source": [
        "M=creaMatrizDato(2,3,9)\n",
        "M"
      ],
      "metadata": {
        "id": "jKujUX7Up8gd",
        "colab": {
          "base_uri": "https://localhost:8080/"
        },
        "outputId": "370aa4ac-f159-489c-fefd-070fcefe230d"
      },
      "execution_count": null,
      "outputs": [
        {
          "output_type": "execute_result",
          "data": {
            "text/plain": [
              "[[9, 9, 9], [9, 9, 9]]"
            ]
          },
          "metadata": {},
          "execution_count": 17
        }
      ]
    },
    {
      "cell_type": "code",
      "source": [
        "M[0][0]=1"
      ],
      "metadata": {
        "id": "hKve25EyqDlG"
      },
      "execution_count": null,
      "outputs": []
    },
    {
      "cell_type": "markdown",
      "source": [
        "**Ejercicio 7** Definir una función que generé la matriz identidad."
      ],
      "metadata": {
        "id": "8nD3Mvo5MF-G"
      }
    },
    {
      "cell_type": "code",
      "source": [
        "\"\"\"\n",
        "La matriz identidad tiene todos sus elementos 0 salvo la diagonal\n",
        "\"\"\"\n",
        "\n",
        "\n",
        "def identidad(filas):\n",
        "  matriz = []\n",
        "  for fila in range(filas):\n",
        "    fila_de_ceros = filas*[0]    # creo una fila de x elementos con valor 0 en cada vuelta\n",
        "    fila_de_ceros[fila] = 1      # itero índice de elementos y asigno 1 \n",
        "    matriz.append(fila_de_ceros)\n",
        "  return matriz\n",
        "\n",
        "      \n",
        "   \n",
        "\n"
      ],
      "metadata": {
        "id": "DWz9dcsJqIe3"
      },
      "execution_count": null,
      "outputs": []
    },
    {
      "cell_type": "code",
      "source": [
        "identidad(6)\n"
      ],
      "metadata": {
        "colab": {
          "base_uri": "https://localhost:8080/"
        },
        "id": "F8pOacfrqRma",
        "outputId": "a1816d89-8547-4261-8528-366774ee9e5e"
      },
      "execution_count": null,
      "outputs": [
        {
          "output_type": "execute_result",
          "data": {
            "text/plain": [
              "[[1, 0, 0, 0, 0, 0],\n",
              " [0, 1, 0, 0, 0, 0],\n",
              " [0, 0, 1, 0, 0, 0],\n",
              " [0, 0, 0, 1, 0, 0],\n",
              " [0, 0, 0, 0, 1, 0],\n",
              " [0, 0, 0, 0, 0, 1]]"
            ]
          },
          "metadata": {},
          "execution_count": 5
        }
      ]
    },
    {
      "cell_type": "markdown",
      "source": [
        "Otras operaciones con matrices:\n",
        "\n",
        "Para poder sumar o restar matrices, éstas deben tener el mismo número de filas y de columnas. Es decir, si una matriz es de orden 3×2 y otra de 3×3, no se pueden sumar ni restar. Esto es así ya que, tanto para la suma como para la resta, se suman o se restan los términos que ocupan el mismo lugar en las matrices.\n",
        "\n",
        "\n",
        "<div style=\"text-align: left\"><img src=\"https://encrypted-tbn0.gstatic.com/images?q=tbn:ANd9GcRFsy5lZXBczCFpEz3tzv5XInQfgYyDFFxYAo4SHxMbHfSiYe6k53krIGWoMvmcNIh-I9E&usqp=CAU\" width=\"600\" /></div>\n"
      ],
      "metadata": {
        "id": "WjLF0hb9pbaM"
      }
    },
    {
      "cell_type": "code",
      "source": [
        "A = [\n",
        "    [3, 2, 1],\n",
        "    [1, 1, 3],\n",
        "    [0, 2, 1],\n",
        "]\n",
        "B = [\n",
        "    [2, 1,3],\n",
        "    [1, 0,4],\n",
        "    [3, 2,5],\n",
        "]"
      ],
      "metadata": {
        "id": "uJJ4Q5aBuV8U"
      },
      "execution_count": null,
      "outputs": []
    },
    {
      "cell_type": "code",
      "source": [
        "C=creaMatriz(len(A),  len(B))\n",
        "\n",
        "for i in range(len(A)):\n",
        "    for j in range(len(B)):\n",
        "        #print(i,j)\n",
        "        C[i][j] = A[i][j] + B[i][j]\n"
      ],
      "metadata": {
        "id": "9Td6ZkaPNxzH",
        "colab": {
          "base_uri": "https://localhost:8080/"
        },
        "outputId": "53d00491-2554-4e40-aa8d-77d6854b047b"
      },
      "execution_count": null,
      "outputs": [
        {
          "output_type": "stream",
          "name": "stdout",
          "text": [
            "0 0\n",
            "0 1\n",
            "0 2\n",
            "1 0\n",
            "1 1\n",
            "1 2\n",
            "2 0\n",
            "2 1\n",
            "2 2\n"
          ]
        }
      ]
    },
    {
      "cell_type": "code",
      "source": [
        "C"
      ],
      "metadata": {
        "colab": {
          "base_uri": "https://localhost:8080/"
        },
        "id": "GpzjjWA_vO9T",
        "outputId": "b51928e4-44ab-464f-c4d7-20d87a9fbb4a"
      },
      "execution_count": null,
      "outputs": [
        {
          "output_type": "execute_result",
          "data": {
            "text/plain": [
              "[[5, 3, 4], [2, 1, 7], [3, 4, 6]]"
            ]
          },
          "metadata": {},
          "execution_count": 54
        }
      ]
    },
    {
      "cell_type": "markdown",
      "source": [
        "Generar la función que sume dos matrices y verifique que sus dimensiones son correctas."
      ],
      "metadata": {
        "id": "C9J4l9Uhv_NR"
      }
    },
    {
      "cell_type": "markdown",
      "source": [
        "**Ejercicio 8** Escribí una función que reciba una lista y devuelva otra lista eliminando los valores repetidos. Ayuda: remove()"
      ],
      "metadata": {
        "id": "V5EncGC8MriM"
      }
    },
    {
      "cell_type": "code",
      "source": [
        "def unicos(lista):\n",
        "  return list(set(lista))\n",
        "\n"
      ],
      "metadata": {
        "id": "bNR22x_aM0DR"
      },
      "execution_count": null,
      "outputs": []
    },
    {
      "cell_type": "code",
      "source": [
        "\n",
        "\n",
        "unicos([1,2,3,4,5,5,5,1])"
      ],
      "metadata": {
        "colab": {
          "base_uri": "https://localhost:8080/"
        },
        "id": "W9ypPxlwOCh8",
        "outputId": "b61ab7a9-c774-473f-af56-27eab3e53a05"
      },
      "execution_count": null,
      "outputs": [
        {
          "output_type": "execute_result",
          "data": {
            "text/plain": [
              "[1, 2, 3, 4, 5]"
            ]
          },
          "metadata": {},
          "execution_count": 51
        }
      ]
    },
    {
      "cell_type": "markdown",
      "source": [
        "Ahora crea una función que contenga los valores únicos sin usar set"
      ],
      "metadata": {
        "id": "eE1spiHuO6B1"
      }
    },
    {
      "cell_type": "code",
      "source": [
        "def unicos2(lista):\n",
        "  for elemento in lista:\n",
        "    if lista.count(elemento) > 1 and elemento in lista:\n",
        "      lista.remove(elemento)\n",
        "  return lista\n",
        "unicos2([1,2,3,4,5,5,5,1])"
      ],
      "metadata": {
        "colab": {
          "base_uri": "https://localhost:8080/"
        },
        "id": "OykusSUBPAb6",
        "outputId": "25dd7e70-f9ce-4383-ace8-790c62305748"
      },
      "execution_count": null,
      "outputs": [
        {
          "output_type": "execute_result",
          "data": {
            "text/plain": [
              "[2, 3, 4, 5, 1]"
            ]
          },
          "metadata": {},
          "execution_count": 52
        }
      ]
    },
    {
      "cell_type": "code",
      "source": [],
      "metadata": {
        "colab": {
          "base_uri": "https://localhost:8080/"
        },
        "id": "D5KP7iPjPCAI",
        "outputId": "d08f4112-6ff3-4ad7-b538-011714385148"
      },
      "execution_count": null,
      "outputs": [
        {
          "output_type": "execute_result",
          "data": {
            "text/plain": [
              "[2, 3, 1, 4, 5]"
            ]
          },
          "metadata": {},
          "execution_count": 15
        }
      ]
    },
    {
      "cell_type": "markdown",
      "source": [
        "**Ejercicio 9** Definir una función que calcule el producto entre dos matrices. Te vamos a dar una pequeña ayuda, solamente tienen que completar la función donde dice COMPLETAR.\n",
        "\n",
        "\n",
        "<div style=\"text-align: left\"><img src=\"https://www.disfrutalasmatematicas.com/algebra/images/matrix-multiply-a.svg\" width=\"600\" /></div>"
      ],
      "metadata": {
        "id": "CNsXXXbENwsQ"
      }
    },
    {
      "cell_type": "code",
      "source": [
        "def producto_matrices(a, b):\n",
        "    filas_a = COMPLETAR\n",
        "    filas_b = COMPLETAR\n",
        "    columnas_a = len(a[0])\n",
        "    columnas_b = len(b[0])\n",
        "    if columnas_a != filas_b:\n",
        "        return None\n",
        "    # Asignar espacio al producto. Es decir, rellenar con \"espacios vacíos\"\n",
        "    producto = []\n",
        "    for i in range(COMPLETAR):\n",
        "        producto.append([])\n",
        "        for j in range(columnas_b):\n",
        "            producto[i].append(None)\n",
        "    # Rellenar el producto\n",
        "    for c in range(COMPLETAR):\n",
        "        for i in range(COMPLETAR):\n",
        "            suma = 0\n",
        "            for j in range(COMPLETAR):\n",
        "                suma +=   COMPLETAR\n",
        "            producto[i][c] = COMPLETAR\n",
        "    return producto"
      ],
      "metadata": {
        "id": "fM8qasxRNVOO"
      },
      "execution_count": null,
      "outputs": []
    },
    {
      "cell_type": "code",
      "source": [
        "matriz_a = [\n",
        "    [3, 2, 1],\n",
        "    [1, 1, 3],\n",
        "    [0, 2, 1],\n",
        "]\n",
        "matriz_b = [\n",
        "    [2, 1],\n",
        "    [1, 0],\n",
        "    [3, 2],\n",
        "]\n",
        "producto_matrices(matriz_a, matriz_b)"
      ],
      "metadata": {
        "id": "PDEpMKGbNV8i"
      },
      "execution_count": null,
      "outputs": []
    },
    {
      "cell_type": "markdown",
      "source": [
        "Para comparar correr el siguiente código"
      ],
      "metadata": {
        "id": "GZ7AZNlXNj2X"
      }
    },
    {
      "cell_type": "code",
      "source": [
        "import numpy as np\n",
        "\n",
        "np.dot(matriz_a,matriz_b)"
      ],
      "metadata": {
        "colab": {
          "base_uri": "https://localhost:8080/"
        },
        "id": "FYsSalTHNeZb",
        "outputId": "a540455f-a2f3-4336-c459-41805de46043"
      },
      "execution_count": null,
      "outputs": [
        {
          "output_type": "execute_result",
          "data": {
            "text/plain": [
              "array([[11,  5],\n",
              "       [12,  7],\n",
              "       [ 5,  2]])"
            ]
          },
          "metadata": {},
          "execution_count": 59
        }
      ]
    }
  ]
}
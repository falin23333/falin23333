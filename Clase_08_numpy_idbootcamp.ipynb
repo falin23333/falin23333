{
  "nbformat": 4,
  "nbformat_minor": 0,
  "metadata": {
    "colab": {
      "provenance": [],
      "collapsed_sections": [
        "qQVUIgflaAIo",
        "5nFW0wO9aoTz",
        "OrOQyVuu5GZV",
        "0mJlt7GR26dT"
      ],
      "include_colab_link": true
    },
    "kernelspec": {
      "display_name": "Python 3",
      "language": "python",
      "name": "python3"
    },
    "language_info": {
      "codemirror_mode": {
        "name": "ipython",
        "version": 3
      },
      "file_extension": ".py",
      "mimetype": "text/x-python",
      "name": "python",
      "nbconvert_exporter": "python",
      "pygments_lexer": "ipython3",
      "version": "3.7.3"
    }
  },
  "cells": [
    {
      "cell_type": "markdown",
      "metadata": {
        "id": "view-in-github",
        "colab_type": "text"
      },
      "source": [
        "<a href=\"https://colab.research.google.com/github/falin23333/falin23333/blob/main/Clase_08_numpy_idbootcamp.ipynb\" target=\"_parent\"><img src=\"https://colab.research.google.com/assets/colab-badge.svg\" alt=\"Open In Colab\"/></a>"
      ]
    },
    {
      "cell_type": "markdown",
      "metadata": {
        "id": "aDaMLDnAPBMf"
      },
      "source": [
        "\n",
        "<div style=\"text-align: left\"><img src=\"https://encrypted-tbn0.gstatic.com/images?q=tbn:ANd9GcTBPtuRucr_9WOZ-DOIie_vrhYHmihX_mvQOw&usqp=CAU\" width=\"600\" /></div>\n",
        "\n",
        "**Docentes:** Verónica Barraza y Diego Frigerio \n",
        "![orange-divider](https://user-images.githubusercontent.com/7065401/98619088-44ab6000-22e1-11eb-8f6d-5532e68ab274.png) \n",
        "\n",
        "\n",
        "# Introducción a Numpy\n",
        "\n",
        "Vamos a conocer la primer libería externa a Python nativo que nos va a estar acompañando a lo largo del curso"
      ]
    },
    {
      "cell_type": "markdown",
      "source": [
        "Empezaremos a dar nuestros primeros pasos con NumPy. Es muy importante que googlees y consultes la documentación. Si no la instalaste, ahora es un buen momento.\n",
        "\n",
        "Cuando queremos usar una librería, primero debemos importarla. Más adelante veremos qué significa importar una librería, pero podemos entenderlo como que es un aviso a Python de que vamos a incorporar nuevas funcionalidades; en este caso, desde NumPy."
      ],
      "metadata": {
        "id": "-2vH8lr-O2SO"
      }
    },
    {
      "cell_type": "code",
      "source": [
        "import numpy as np"
      ],
      "metadata": {
        "id": "q8nLIr1TOcZR"
      },
      "execution_count": null,
      "outputs": []
    },
    {
      "cell_type": "markdown",
      "source": [
        "## El array como estructura de datos\n",
        "\n",
        "* Extenderemos la aplicación de estos tipos de estructura de datos, agregando el tipo de dato array. \n",
        "* Tanto array como list sirven para guardar conjuntos de datos ordenados en memoria. \n",
        "* Mientras que el tipo de dato list puede guardar datos de diferentes tipos, el tipo de dato array guarda datos de un único tipo. \n",
        "* Esto le permite ser más eficiente, especialmente al trabajar con conjuntos de datos grandes. \n",
        "\n",
        "## Numpy arrays\n",
        "\n",
        "* La librería Numpy provee una forma particular de array llamada ndarray o Numpy Array.\n",
        "* Recordar: los ndarrays, al ser un tipo de array, sólo pueden almacenar datos de un mismo tipo."
      ],
      "metadata": {
        "id": "Ogp9t5CcO_dQ"
      }
    },
    {
      "cell_type": "markdown",
      "source": [
        "Ahora nuestro ambiente de trabajo sabe que si ponemos algo del estilo np. significa que esa funcionalidad la debe buscar en NumPy. Importante: Si la librería NO se instaló correctamente, te saltará un mensaje de error.\n",
        "\n",
        "El principal tipo de dato sobre el que trabaja NumPy son los arreglos o arrays. Los arreglos son parecidos a listas y, de hecho, se pueden crear a partir de ellas."
      ],
      "metadata": {
        "id": "52hntXkHPOcK"
      }
    },
    {
      "cell_type": "code",
      "source": [
        "import numpy as np\n",
        "lista = [0,1,2,3,4,5]\n",
        "arreglo = np.array(lista)\n",
        "print(lista)\n",
        "print(arreglo)"
      ],
      "metadata": {
        "id": "GYZbUOhgO_9D",
        "outputId": "5509d8e1-d8e4-47db-aa69-e91f3005a236",
        "colab": {
          "base_uri": "https://localhost:8080/"
        }
      },
      "execution_count": null,
      "outputs": [
        {
          "output_type": "stream",
          "name": "stdout",
          "text": [
            "[0, 1, 2, 3, 4, 5]\n",
            "[0 1 2 3 4 5]\n"
          ]
        }
      ]
    },
    {
      "cell_type": "markdown",
      "source": [
        "Pero son más que una lista. Algunas cosas que no se podían hacer con las listas ahora sí se pueden con arreglos. Recordemos que sumarle un número a toda la lista no estaba permitido"
      ],
      "metadata": {
        "id": "OygAzugIh5qE"
      }
    },
    {
      "cell_type": "code",
      "source": [
        "lista + 1"
      ],
      "metadata": {
        "id": "Nq4jvrk9h6Hc",
        "colab": {
          "base_uri": "https://localhost:8080/",
          "height": 166
        },
        "outputId": "d87169f8-45b4-4b88-e803-b38d660a17d4"
      },
      "execution_count": null,
      "outputs": [
        {
          "output_type": "error",
          "ename": "TypeError",
          "evalue": "ignored",
          "traceback": [
            "\u001b[0;31m---------------------------------------------------------------------------\u001b[0m",
            "\u001b[0;31mTypeError\u001b[0m                                 Traceback (most recent call last)",
            "\u001b[0;32m<ipython-input-2-0d87e2469f45>\u001b[0m in \u001b[0;36m<module>\u001b[0;34m\u001b[0m\n\u001b[0;32m----> 1\u001b[0;31m \u001b[0mlista\u001b[0m \u001b[0;34m+\u001b[0m \u001b[0;36m1\u001b[0m\u001b[0;34m\u001b[0m\u001b[0;34m\u001b[0m\u001b[0m\n\u001b[0m",
            "\u001b[0;31mTypeError\u001b[0m: can only concatenate list (not \"int\") to list"
          ]
        }
      ]
    },
    {
      "cell_type": "markdown",
      "source": [
        "Como lo hacíamos?"
      ],
      "metadata": {
        "id": "xfQtQ8-rh-RM"
      }
    },
    {
      "cell_type": "code",
      "source": [
        "print(arreglo)"
      ],
      "metadata": {
        "id": "e-hbXwrJiASm",
        "colab": {
          "base_uri": "https://localhost:8080/"
        },
        "outputId": "d5db7526-0f90-4d98-9916-1e39ffa8ac51"
      },
      "execution_count": null,
      "outputs": [
        {
          "output_type": "stream",
          "name": "stdout",
          "text": [
            "[0 1 2 3 4 5]\n"
          ]
        }
      ]
    },
    {
      "cell_type": "markdown",
      "metadata": {
        "id": "sYNB5botIN-I"
      },
      "source": [
        "¡Pero ahora con los arreglos sí!"
      ]
    },
    {
      "cell_type": "code",
      "execution_count": null,
      "metadata": {
        "id": "S0NCqo3UIN-I",
        "outputId": "7446d2cc-eaf9-456b-9684-c5f6d884e590",
        "colab": {
          "base_uri": "https://localhost:8080/"
        }
      },
      "outputs": [
        {
          "output_type": "stream",
          "name": "stdout",
          "text": [
            "[ 0 10 20 30 40 50]\n"
          ]
        }
      ],
      "source": [
        "print(arreglo * 10)"
      ]
    },
    {
      "cell_type": "markdown",
      "metadata": {
        "id": "fhVL7Va2IN-J"
      },
      "source": [
        "Esto simplifica mucho hacer cuéntas. Pero no es sólo sumar, también muchas otras operaciones:"
      ]
    },
    {
      "cell_type": "code",
      "execution_count": null,
      "metadata": {
        "id": "KzaoTBCmIN-J",
        "outputId": "5358679e-4f4b-456e-c637-db1e28a4b37a"
      },
      "outputs": [
        {
          "name": "stdout",
          "output_type": "stream",
          "text": [
            "[-5 -4 -3 -2 -1  0]\n",
            "[-2 -1  0  1  2  3]\n",
            "[ 0  4  8 12 16 20]\n",
            "[ 0  1  4  9 16 25]\n"
          ]
        }
      ],
      "source": [
        "print(arreglo - 5)\n",
        "print(arreglo - 2)\n",
        "print(arreglo*4)\n",
        "print(arreglo**2)"
      ]
    },
    {
      "cell_type": "markdown",
      "metadata": {
        "id": "9cbHYpVjIN-J"
      },
      "source": [
        "Comprobar que, salvo la multiplicación, ninguno estaba permitido en listas. ¿Qué hace la multiplicación en el caso de una lista?"
      ]
    },
    {
      "cell_type": "markdown",
      "metadata": {
        "id": "7q3YpT_kIN-J"
      },
      "source": [
        "## Creación de arreglos"
      ]
    },
    {
      "cell_type": "markdown",
      "metadata": {
        "id": "iiglV5jWIN-J"
      },
      "source": [
        "Si bien podemos crear arreglos a partir de listas, NumPy viene con muchas funciones para hacerlo. Veamos algunas.\n",
        "\n",
        "Una muy utilizada es `np.arange()`. Consulta su documentación. Otra opción es que, en una celda de código, escribas `np.arange` y aprietes `shift` + `tab`. De esa forma, te aparecerá la ayuda.\n",
        "\n",
        "Juega un poco con el ejemplo a continuación."
      ]
    },
    {
      "cell_type": "code",
      "execution_count": null,
      "metadata": {
        "id": "NULEjjiVIN-J",
        "outputId": "202da0c1-e74a-414c-b64a-6cbd3870ccdd",
        "colab": {
          "base_uri": "https://localhost:8080/"
        }
      },
      "outputs": [
        {
          "output_type": "stream",
          "name": "stdout",
          "text": [
            "[ 3  5  7  9 11 13 15 17 19]\n",
            "[  0.           5.26315789  10.52631579  15.78947368  21.05263158\n",
            "  26.31578947  31.57894737  36.84210526  42.10526316  47.36842105\n",
            "  52.63157895  57.89473684  63.15789474  68.42105263  73.68421053\n",
            "  78.94736842  84.21052632  89.47368421  94.73684211 100.        ]\n",
            "[0. 0. 0. 0. 0. 0. 0. 0. 0. 0.]\n",
            "[1. 1. 1. 1. 1. 1.]\n"
          ]
        }
      ],
      "source": [
        "arreglo = np.arange(3,20,2)\n",
        "print(arreglo)\n",
        "\n",
        "array = np.linspace(0,100,20)\n",
        "print(array)\n",
        "\n",
        "print(np.zeros(10))\n",
        "\n",
        "print(np.ones(6))"
      ]
    },
    {
      "cell_type": "markdown",
      "source": [
        "**Ejercicio:** investiga y crea ejemplos con las siguientes funciones\n",
        "* `np.linspace`. Presta particular atención a cómo se diferencia de `np.arange`.\n",
        "* `np.zeros` y `np.ones`."
      ],
      "metadata": {
        "id": "gdOM3u2Oi5Gv"
      }
    },
    {
      "cell_type": "markdown",
      "metadata": {
        "id": "WtqVaiuzIN-J"
      },
      "source": [
        "\n",
        "\n",
        "## Shape de los arreglos\n",
        "\n",
        "Los arreglos tienen muchos más propiedades que las listas. En particular, pueden tener más de un *eje* o dimensión. Veamos a qué nos referimos:"
      ]
    },
    {
      "cell_type": "code",
      "execution_count": null,
      "metadata": {
        "id": "7oR4GHXDIN-K",
        "outputId": "6d937851-d471-4626-ddfe-1f1f28e8b1a6"
      },
      "outputs": [
        {
          "name": "stdout",
          "output_type": "stream",
          "text": [
            "[[1 2 3 4]\n",
            " [5 6 7 8]]\n"
          ]
        }
      ],
      "source": [
        "arreglo_2d = np.array([[1,2,3,4],[5,6,7,8]])\n",
        "print(arreglo_2d)"
      ]
    },
    {
      "cell_type": "markdown",
      "metadata": {
        "id": "M7EZOh2gIN-K"
      },
      "source": [
        "Notar que tiene dos filas y cuatro columnas. Podemos descubrir esto sin imprimirlo en pantalla, sino usando la propiedad `.shape` del arreglo."
      ]
    },
    {
      "cell_type": "code",
      "execution_count": null,
      "metadata": {
        "id": "3ZFvrZnfIN-K",
        "outputId": "2720dfe1-a230-4e70-c061-a8ddd48b8007"
      },
      "outputs": [
        {
          "name": "stdout",
          "output_type": "stream",
          "text": [
            "(2, 4)\n"
          ]
        }
      ],
      "source": [
        "print(arreglo_2d.shape)"
      ]
    },
    {
      "cell_type": "markdown",
      "metadata": {
        "id": "ufe47fgPIN-K"
      },
      "source": [
        "Primero aparece el número de filas y luego el de columnas. ¿Qué estructura de dato es `(2, 4)`? Otro ejemplo:"
      ]
    },
    {
      "cell_type": "code",
      "execution_count": null,
      "metadata": {
        "id": "s01V6w8lIN-K",
        "outputId": "5337f4b5-a968-4937-8389-fa3ec7f1522b"
      },
      "outputs": [
        {
          "name": "stdout",
          "output_type": "stream",
          "text": [
            "[[1 2]\n",
            " [3 4]\n",
            " [5 6]\n",
            " [7 8]]\n",
            "(4, 2)\n"
          ]
        }
      ],
      "source": [
        "arreglo_2d = np.array([[1,2],[3,4],[5,6],[7,8]])\n",
        "print(arreglo_2d)\n",
        "print(arreglo_2d.shape)"
      ]
    },
    {
      "cell_type": "markdown",
      "metadata": {
        "id": "ll1X1dRCIN-K"
      },
      "source": [
        "Si queremos saber cuántos elementos tiene, podemos usar `.size`"
      ]
    },
    {
      "cell_type": "code",
      "execution_count": null,
      "metadata": {
        "id": "M_p7QPaeIN-K",
        "outputId": "d0767b97-bed4-4cb0-ddce-4286710e5d4d"
      },
      "outputs": [
        {
          "name": "stdout",
          "output_type": "stream",
          "text": [
            "8\n"
          ]
        }
      ],
      "source": [
        "print(arreglo_2d.size)"
      ]
    },
    {
      "cell_type": "markdown",
      "metadata": {
        "id": "pioQEWR0FFd2"
      },
      "source": [
        "## Accediendo elementos\n",
        "\n",
        "Al igual que las listas, los elementos del arreglo se acceden mediante su índice, comenzando desde 0."
      ]
    },
    {
      "cell_type": "code",
      "metadata": {
        "id": "sFqBSAmXFFd4",
        "outputId": "bde21c3a-3631-4aa3-d621-59b86c37e11d",
        "colab": {
          "base_uri": "https://localhost:8080/"
        }
      },
      "source": [
        "arreglo_2d = np.arange(9).reshape(3,3)\n",
        "print(arreglo_2d)\n",
        "print(arreglo_2d[1,:])"
      ],
      "execution_count": null,
      "outputs": [
        {
          "output_type": "stream",
          "name": "stdout",
          "text": [
            "[[0 1 2]\n",
            " [3 4 5]\n",
            " [6 7 8]]\n",
            "[3 4 5]\n"
          ]
        }
      ]
    },
    {
      "cell_type": "code",
      "source": [
        "print(arreglo_2d[0])\n",
        "print(arreglo_2d[0,0])\n",
        "print(arreglo_2d[1,0])"
      ],
      "metadata": {
        "colab": {
          "base_uri": "https://localhost:8080/"
        },
        "id": "lSUdFVfp8f4C",
        "outputId": "56d87f96-b98d-4673-a5da-579434a9c4d1"
      },
      "execution_count": null,
      "outputs": [
        {
          "output_type": "stream",
          "name": "stdout",
          "text": [
            "[0 1 2]\n",
            "0\n",
            "3\n"
          ]
        }
      ]
    },
    {
      "cell_type": "markdown",
      "source": [
        "Podemos seleccionar una rebanadas del arreglo de la siguiente manera:\n",
        "\t\n",
        "\t>Objeto[desde:hasta:tamaño_de_paso]\n",
        "\n",
        "El parámetro tamaño_de_paso permite, por ejemplo, seleccionar elementos de dos en dos\n",
        "\n",
        "Atención a estos detalles:\t \n",
        "* El índice \"desde\" es inclusivo.\n",
        "* El índice \"hasta\" es exclusivo.\n"
      ],
      "metadata": {
        "id": "vRing6ne81vf"
      }
    },
    {
      "cell_type": "code",
      "source": [
        "rango = range(0,10)\n",
        "Np_diez_numeros = np.array(rango)\n",
        "Np_diez_numeros\n"
      ],
      "metadata": {
        "colab": {
          "base_uri": "https://localhost:8080/"
        },
        "id": "HMXEZirx89Dd",
        "outputId": "dd92db41-817b-44a0-d4d3-500c616a6688"
      },
      "execution_count": null,
      "outputs": [
        {
          "output_type": "execute_result",
          "data": {
            "text/plain": [
              "array([0, 1, 2, 3, 4, 5, 6, 7, 8, 9])"
            ]
          },
          "metadata": {},
          "execution_count": 64
        }
      ]
    },
    {
      "cell_type": "code",
      "source": [
        "#Np_diez_numeros[:4]\n",
        "#Np_diez_numeros[4:7]\n",
        "#Np_diez_numeros[::2]\n",
        "#Np_diez_numeros[::-2]"
      ],
      "metadata": {
        "colab": {
          "base_uri": "https://localhost:8080/"
        },
        "id": "bQQtEFkV9Vcf",
        "outputId": "85f74926-d1c8-4af3-abfd-e3d13d0191b0"
      },
      "execution_count": null,
      "outputs": [
        {
          "output_type": "execute_result",
          "data": {
            "text/plain": [
              "array([9, 7, 5, 3, 1])"
            ]
          },
          "metadata": {},
          "execution_count": 68
        }
      ]
    },
    {
      "cell_type": "markdown",
      "source": [
        "Podemos seleccionar elementos desde atrás para adelante mediante índices negativos, comenzando desde -1"
      ],
      "metadata": {
        "id": "R9SX5at48vUS"
      }
    },
    {
      "cell_type": "code",
      "source": [
        "print(arreglo_2d[-1])"
      ],
      "metadata": {
        "colab": {
          "base_uri": "https://localhost:8080/"
        },
        "id": "Oz9-xrWS8vyw",
        "outputId": "8ae6ef58-5aa6-41ae-f4d5-6a17e98fdb03"
      },
      "execution_count": null,
      "outputs": [
        {
          "output_type": "stream",
          "name": "stdout",
          "text": [
            "[6 7 8]\n"
          ]
        }
      ]
    },
    {
      "cell_type": "markdown",
      "source": [
        "Para arreglos **multidimensionales**, especificar los índices de manera ordenada:\n",
        "\n",
        "\t>Objeto[dimensión1, dimensión2,…]\n",
        "\n",
        "Veamos algunos ejemplos...\n",
        "* Tercera fila, todas las columnas:\n",
        "* Primeras dos filas, primeras dos columnas:\n",
        "* Tercera fila, cuarta columna:\n"
      ],
      "metadata": {
        "id": "XTz2Yn1i-nAv"
      }
    },
    {
      "cell_type": "code",
      "source": [
        "Np_random_dimensiones = np.random.randint(10, size=(3, 4))\n",
        "Np_random_dimensiones\n",
        "\n"
      ],
      "metadata": {
        "colab": {
          "base_uri": "https://localhost:8080/"
        },
        "id": "BUy7EuzP-snl",
        "outputId": "f5708dfd-c9c6-42eb-e48c-61ecbbb320e5"
      },
      "execution_count": null,
      "outputs": [
        {
          "output_type": "execute_result",
          "data": {
            "text/plain": [
              "array([[5, 0, 8, 2],\n",
              "       [2, 8, 1, 7],\n",
              "       [5, 2, 4, 6]])"
            ]
          },
          "metadata": {},
          "execution_count": 34
        }
      ]
    },
    {
      "cell_type": "code",
      "source": [
        "Np_random_dimensiones[2,:].shape\n"
      ],
      "metadata": {
        "colab": {
          "base_uri": "https://localhost:8080/"
        },
        "id": "UEEKtC1Q-w_X",
        "outputId": "7b87e25c-f985-4c65-c4bf-c93a1c8e31de"
      },
      "execution_count": null,
      "outputs": [
        {
          "output_type": "execute_result",
          "data": {
            "text/plain": [
              "(4,)"
            ]
          },
          "metadata": {},
          "execution_count": 83
        }
      ]
    },
    {
      "cell_type": "code",
      "source": [
        "Np_random_dimensiones[:2,:2].shape"
      ],
      "metadata": {
        "colab": {
          "base_uri": "https://localhost:8080/"
        },
        "id": "aCldv8Bp-2qA",
        "outputId": "e9d1155e-0911-4b12-f5c4-568b50668c67"
      },
      "execution_count": null,
      "outputs": [
        {
          "output_type": "execute_result",
          "data": {
            "text/plain": [
              "(2, 2)"
            ]
          },
          "metadata": {},
          "execution_count": 87
        }
      ]
    },
    {
      "cell_type": "code",
      "source": [
        "Np_random_dimensiones[2,3]"
      ],
      "metadata": {
        "colab": {
          "base_uri": "https://localhost:8080/"
        },
        "id": "wr9nopPh-7T7",
        "outputId": "aa70c2af-64a7-4a1d-d67d-0791845c854f"
      },
      "execution_count": null,
      "outputs": [
        {
          "output_type": "execute_result",
          "data": {
            "text/plain": [
              "3"
            ]
          },
          "metadata": {},
          "execution_count": 28
        }
      ]
    },
    {
      "cell_type": "markdown",
      "source": [
        "## Ejercitación"
      ],
      "metadata": {
        "id": "6NzrtyH5vuGV"
      }
    },
    {
      "cell_type": "markdown",
      "source": [
        "**Ejercicio 1**: Escribir un arreglo con 50 números equiespaciados del 0 al 9. Pista: `linspace`"
      ],
      "metadata": {
        "id": "mFM71OnGv0b2"
      }
    },
    {
      "cell_type": "code",
      "source": [
        "arreglo = np.linspace(0,9,50)\n",
        "arreglo"
      ],
      "metadata": {
        "id": "AyMvd3mBvmqi",
        "outputId": "8507f109-5891-4e60-a08b-ec756995a566",
        "colab": {
          "base_uri": "https://localhost:8080/"
        }
      },
      "execution_count": null,
      "outputs": [
        {
          "output_type": "execute_result",
          "data": {
            "text/plain": [
              "array([0.        , 0.18367347, 0.36734694, 0.55102041, 0.73469388,\n",
              "       0.91836735, 1.10204082, 1.28571429, 1.46938776, 1.65306122,\n",
              "       1.83673469, 2.02040816, 2.20408163, 2.3877551 , 2.57142857,\n",
              "       2.75510204, 2.93877551, 3.12244898, 3.30612245, 3.48979592,\n",
              "       3.67346939, 3.85714286, 4.04081633, 4.2244898 , 4.40816327,\n",
              "       4.59183673, 4.7755102 , 4.95918367, 5.14285714, 5.32653061,\n",
              "       5.51020408, 5.69387755, 5.87755102, 6.06122449, 6.24489796,\n",
              "       6.42857143, 6.6122449 , 6.79591837, 6.97959184, 7.16326531,\n",
              "       7.34693878, 7.53061224, 7.71428571, 7.89795918, 8.08163265,\n",
              "       8.26530612, 8.44897959, 8.63265306, 8.81632653, 9.        ])"
            ]
          },
          "metadata": {},
          "execution_count": 38
        }
      ]
    },
    {
      "cell_type": "markdown",
      "source": [
        "**Ejercicio 2:** crear un arreglo 1D de 20 ceros. Reemplazar los primeros 15 elementos por unos."
      ],
      "metadata": {
        "id": "dHZntXHgv58V"
      }
    },
    {
      "cell_type": "code",
      "source": [
        "arreglo = np.arange(20)\n",
        "arreglo[:15] = 1\n"
      ],
      "metadata": {
        "id": "VXA6_H0evmzc",
        "outputId": "44420d97-c96d-4d29-8cd6-9eb72376ce29",
        "colab": {
          "base_uri": "https://localhost:8080/"
        }
      },
      "execution_count": null,
      "outputs": [
        {
          "output_type": "execute_result",
          "data": {
            "text/plain": [
              "array([ 1,  1,  1,  1,  1,  1,  1,  1,  1,  1,  1,  1,  1,  1,  1, 15, 16,\n",
              "       17, 18, 19])"
            ]
          },
          "metadata": {},
          "execution_count": 7
        }
      ]
    },
    {
      "cell_type": "markdown",
      "source": [
        "**Ejercicio 3:** crear un arreglo 1D de 50 ceros. Reemplazar los primeros 25 elementos por los números naturales del 0 al 24."
      ],
      "metadata": {
        "id": "t87U4muewNeb"
      }
    },
    {
      "cell_type": "code",
      "source": [
        "arreglo = np.zeros(50)\n",
        "arreglo[:25] = range(0,25)\n",
        "arreglo"
      ],
      "metadata": {
        "id": "WMQRE7Bpvm5q",
        "outputId": "de8a6ed4-42a0-422b-a1a1-886ff65a0f21",
        "colab": {
          "base_uri": "https://localhost:8080/"
        }
      },
      "execution_count": null,
      "outputs": [
        {
          "output_type": "execute_result",
          "data": {
            "text/plain": [
              "array([ 0.,  1.,  2.,  3.,  4.,  5.,  6.,  7.,  8.,  9., 10., 11., 12.,\n",
              "       13., 14., 15., 16., 17., 18., 19., 20., 21., 22., 23., 24.,  0.,\n",
              "        0.,  0.,  0.,  0.,  0.,  0.,  0.,  0.,  0.,  0.,  0.,  0.,  0.,\n",
              "        0.,  0.,  0.,  0.,  0.,  0.,  0.,  0.,  0.,  0.,  0.])"
            ]
          },
          "metadata": {},
          "execution_count": 15
        }
      ]
    },
    {
      "cell_type": "markdown",
      "source": [
        "**Ejercicio 4:** crear un arreglo 2D de 3 filas y 3 columnas, lleno de ceros. Reemplazar los elemento de la segunda columna por los números 1, 2 y 3 respectivamente. Es decir, crear la siguiente matriz:\n",
        "\n",
        "```\n",
        "0 1 0 \n",
        "0 2 0\n",
        "0 3 0\n",
        "```"
      ],
      "metadata": {
        "id": "K8HOnlhNwSPv"
      }
    },
    {
      "cell_type": "code",
      "source": [
        "arreglo = np.zeros(9).reshape(3,3)\n",
        "\n",
        "arreglo[:,1] = np.arange(1,4)\n",
        "\n",
        "arreglo\n",
        "\n"
      ],
      "metadata": {
        "id": "NFX5M_aevm_u",
        "outputId": "3405ba0f-3d9c-4b9d-de8c-16643349fc16",
        "colab": {
          "base_uri": "https://localhost:8080/"
        }
      },
      "execution_count": null,
      "outputs": [
        {
          "output_type": "execute_result",
          "data": {
            "text/plain": [
              "array([[0., 1., 0.],\n",
              "       [0., 2., 0.],\n",
              "       [0., 3., 0.]])"
            ]
          },
          "metadata": {},
          "execution_count": 24
        }
      ]
    },
    {
      "cell_type": "markdown",
      "source": [
        "**Ejercicio 5:** crear un arreglo 2D de 3 filas y 3 columnas, lleno de ceros. Reemplazar los elemento de la diagonal por unos. Es decir, crear la siguiente matriz:\n",
        "\n",
        "```\n",
        "1 0 0 \n",
        "0 1 0\n",
        "0 0 1\n",
        "```"
      ],
      "metadata": {
        "id": "QMZh6mv2wZdV"
      }
    },
    {
      "cell_type": "code",
      "source": [
        "arreglo = np.zeros(9).reshape(3,3)\n",
        "\n",
        "\n",
        "range(0,2,1)\n",
        "\n",
        "arreglo"
      ],
      "metadata": {
        "id": "cJJ3UaT2wfuu",
        "outputId": "5f3713db-6f3d-4420-9e5c-39ece8686607",
        "colab": {
          "base_uri": "https://localhost:8080/"
        }
      },
      "execution_count": null,
      "outputs": [
        {
          "output_type": "execute_result",
          "data": {
            "text/plain": [
              "array([[0., 0., 0.],\n",
              "       [0., 0., 0.],\n",
              "       [0., 0., 0.]])"
            ]
          },
          "metadata": {},
          "execution_count": 35
        }
      ]
    },
    {
      "cell_type": "markdown",
      "source": [
        "**Ejercicio 6:** Comprobar si efectivamente es más rápido utilizar `numpy` en lugar de python nativo para realizar operaciones. Probar la suma de los primeros 100.000 números naturales, y como segundo ejemplo, sumarle 5 a esos números\n",
        "\n",
        "Utilizar la función mágica `%%timeit` al inicio del código. La misma calcula la celda varias veces y devuelve en promedio cuanto tiempo se demoró la computadora para hacer el cálculo"
      ],
      "metadata": {
        "id": "eoBMSNTQL8S1"
      }
    },
    {
      "cell_type": "code",
      "source": [
        "array = np.array(range(1,100001))\n",
        "acu = 0\n",
        "for i in array:\n",
        "  acu += i\n",
        "acu"
      ],
      "metadata": {
        "id": "tFJeB6kkL5-N",
        "colab": {
          "base_uri": "https://localhost:8080/"
        },
        "outputId": "fbe517cb-3c78-4447-9786-c6a965f6fe2a"
      },
      "execution_count": null,
      "outputs": [
        {
          "output_type": "execute_result",
          "data": {
            "text/plain": [
              "5000050000"
            ]
          },
          "metadata": {},
          "execution_count": 40
        }
      ]
    },
    {
      "cell_type": "code",
      "source": [
        "array = np.array(range(1,100001))\n",
        "acu = 0\n",
        "for i in array:\n",
        "  acu += i + 5\n",
        "acu"
      ],
      "metadata": {
        "id": "MkjU2GV8VaDk",
        "colab": {
          "base_uri": "https://localhost:8080/"
        },
        "outputId": "34d879bb-3dd1-4a41-935d-1d5043476efc"
      },
      "execution_count": null,
      "outputs": [
        {
          "output_type": "execute_result",
          "data": {
            "text/plain": [
              "5000550000"
            ]
          },
          "metadata": {},
          "execution_count": 41
        }
      ]
    },
    {
      "cell_type": "markdown",
      "metadata": {
        "id": "WFY7rBBDFFdo"
      },
      "source": [
        "## Funciones que operan sobre arreglos\n",
        "\n",
        "Los arreglos de NumPy incorporan un montón de funciones que operan sobre los arreglos. Veamos algunos ejemplos."
      ]
    },
    {
      "cell_type": "code",
      "metadata": {
        "id": "r1UiK2gMFFdp",
        "outputId": "f3539d42-792c-46e0-e0c0-9549e272e24f",
        "colab": {
          "base_uri": "https://localhost:8080/"
        }
      },
      "source": [
        "un_arreglo = np.array([-100,2,3,17,25,1,95])\n",
        "print(un_arreglo.min())\n",
        "print(un_arreglo.max())"
      ],
      "execution_count": null,
      "outputs": [
        {
          "output_type": "stream",
          "name": "stdout",
          "text": [
            "-100\n",
            "95\n"
          ]
        }
      ]
    },
    {
      "cell_type": "markdown",
      "metadata": {
        "id": "nLHFc1P-FFdr"
      },
      "source": [
        "En el caso 2D, podemos pedir que estas funciones operen sobre todo el arreglo, o por ejes.\n",
        "\n"
      ]
    },
    {
      "cell_type": "code",
      "metadata": {
        "id": "ZgV1U-jxFFds",
        "outputId": "5aa77166-eb42-43fe-818b-c532104d82c3",
        "colab": {
          "base_uri": "https://localhost:8080/"
        }
      },
      "source": [
        "# No te preocupes si no entiendes lo que hace esta celda\n",
        "arreglo_2d = np.arange(9)\n",
        "np.random.shuffle(arreglo_2d)\n",
        "arreglo_2d = arreglo_2d.reshape((3,3))\n",
        "print(arreglo_2d)"
      ],
      "execution_count": null,
      "outputs": [
        {
          "output_type": "stream",
          "name": "stdout",
          "text": [
            "[[6 4 1]\n",
            " [3 0 2]\n",
            " [8 5 7]]\n"
          ]
        }
      ]
    },
    {
      "cell_type": "markdown",
      "metadata": {
        "id": "ccY9_vPYFFdw"
      },
      "source": [
        "Trata de entender la diferencia entre las siguientes instrucciones:"
      ]
    },
    {
      "cell_type": "code",
      "metadata": {
        "id": "vMdw_t4JFFdx",
        "outputId": "2782fa0c-1a39-406a-95be-b4cdaf75bad4",
        "colab": {
          "base_uri": "https://localhost:8080/"
        }
      },
      "source": [
        "print(arreglo_2d.max())\n",
        "print(arreglo_2d.max(axis = 0))\n",
        "print(arreglo_2d.max(axis = 1))"
      ],
      "execution_count": null,
      "outputs": [
        {
          "output_type": "stream",
          "name": "stdout",
          "text": [
            "8\n",
            "[8 5 7]\n",
            "[6 3 8]\n"
          ]
        }
      ]
    },
    {
      "cell_type": "markdown",
      "source": [
        "### Reshape\n",
        "\n",
        "Permite modificar la dimensión de un arreglo, retornando otro con distinta dimensión y forma pero manteniendo los mismos elementos.\n",
        "\n",
        "\n"
      ],
      "metadata": {
        "id": "6LyOuMiT--fE"
      }
    },
    {
      "cell_type": "code",
      "source": [
        "np.arange(1,65)"
      ],
      "metadata": {
        "colab": {
          "base_uri": "https://localhost:8080/"
        },
        "id": "gFI8m653AM2I",
        "outputId": "bb2d3b0e-786d-4768-c51c-d90115d78c52"
      },
      "execution_count": null,
      "outputs": [
        {
          "output_type": "execute_result",
          "data": {
            "text/plain": [
              "array([ 1,  2,  3,  4,  5,  6,  7,  8,  9, 10, 11, 12, 13, 14, 15, 16, 17,\n",
              "       18, 19, 20, 21, 22, 23, 24, 25, 26, 27, 28, 29, 30, 31, 32, 33, 34,\n",
              "       35, 36, 37, 38, 39, 40, 41, 42, 43, 44, 45, 46, 47, 48, 49, 50, 51,\n",
              "       52, 53, 54, 55, 56, 57, 58, 59, 60, 61, 62, 63, 64])"
            ]
          },
          "metadata": {},
          "execution_count": 90
        }
      ]
    },
    {
      "cell_type": "markdown",
      "source": [
        "**Error al redimensionar.**\n",
        "\n",
        "Para que podamos cambiar el número de filas y columnas de un arreglo en Python, debemos cumplir una única condición, la cual es que las nuevas dimensiones sean compatibles con las dimensiones originales, es decir, que tengan el mismo número de elementos.\n",
        "\n",
        "Si tenemos un arreglo de 1×8, podemos convertirlo en un arreglo de 2×4, 4×2 y 8×1."
      ],
      "metadata": {
        "id": "qy-PF3IlAZP-"
      }
    },
    {
      "cell_type": "code",
      "source": [
        "Ajedrez_64 = np.arange(1,65).reshape(8,8)\n",
        "Ajedrez_64"
      ],
      "metadata": {
        "colab": {
          "base_uri": "https://localhost:8080/"
        },
        "id": "6zR-NqShAJJ-",
        "outputId": "117e89ec-89d1-4f99-812d-734af48af3fc"
      },
      "execution_count": null,
      "outputs": [
        {
          "output_type": "execute_result",
          "data": {
            "text/plain": [
              "array([[ 1,  2,  3,  4,  5,  6,  7,  8],\n",
              "       [ 9, 10, 11, 12, 13, 14, 15, 16],\n",
              "       [17, 18, 19, 20, 21, 22, 23, 24],\n",
              "       [25, 26, 27, 28, 29, 30, 31, 32],\n",
              "       [33, 34, 35, 36, 37, 38, 39, 40],\n",
              "       [41, 42, 43, 44, 45, 46, 47, 48],\n",
              "       [49, 50, 51, 52, 53, 54, 55, 56],\n",
              "       [57, 58, 59, 60, 61, 62, 63, 64]])"
            ]
          },
          "metadata": {},
          "execution_count": 47
        }
      ]
    },
    {
      "cell_type": "markdown",
      "source": [
        "Sencillo, ¿verdad? 😀"
      ],
      "metadata": {
        "id": "mZhqEhrRvcAJ"
      }
    },
    {
      "cell_type": "markdown",
      "source": [
        "\n",
        "\n",
        "### Concatenación\n",
        "\n",
        "Consiste en formar un nuevo arreglo a partir de “enganchar” o “apilar” otros.\n",
        "Python ofrece dos métodos:\n",
        "* Con la operación concatenate. \n",
        "* Con las operaciones vstack y hstack \n"
      ],
      "metadata": {
        "id": "Qd1mHLynARcs"
      }
    },
    {
      "cell_type": "code",
      "source": [
        "Array_1 = np.random.randint(10, size=5)\n",
        "Array_2 = np.random.randint(10, size=5)\n",
        "Arrays_concatenados = np.concatenate([Array_1, Array_2])\n",
        "print(Arrays_concatenados.reshape(2,5))"
      ],
      "metadata": {
        "id": "TGyn7eRbARoZ",
        "colab": {
          "base_uri": "https://localhost:8080/"
        },
        "outputId": "6875e706-41b0-4c1f-e980-76bc7b7bb591"
      },
      "execution_count": null,
      "outputs": [
        {
          "output_type": "stream",
          "name": "stdout",
          "text": [
            "[[1 2 9 7 9]\n",
            " [8 3 1 9 4]]\n"
          ]
        }
      ]
    },
    {
      "cell_type": "markdown",
      "source": [
        "El método vstack apila verticalmente:\n",
        "\n"
      ],
      "metadata": {
        "id": "pu-hKLrdAkdk"
      }
    },
    {
      "cell_type": "code",
      "source": [
        "Array_extra = np.array([[10],[20]])\n",
        "Array_extra\n"
      ],
      "metadata": {
        "colab": {
          "base_uri": "https://localhost:8080/"
        },
        "id": "WCSnzdTJAkne",
        "outputId": "1e0bd191-22c4-4a6d-f656-8285b5b65098"
      },
      "execution_count": null,
      "outputs": [
        {
          "output_type": "execute_result",
          "data": {
            "text/plain": [
              "array([[10],\n",
              "       [20]])"
            ]
          },
          "metadata": {},
          "execution_count": 32
        }
      ]
    },
    {
      "cell_type": "code",
      "source": [
        "Array_apilados_v = np.vstack([Array_extra, Array_extra])\n",
        "Array_apilados_v"
      ],
      "metadata": {
        "colab": {
          "base_uri": "https://localhost:8080/"
        },
        "id": "1a2EkRdWAqEJ",
        "outputId": "d0a3eae0-5517-46a7-c550-d6cef2484f19"
      },
      "execution_count": null,
      "outputs": [
        {
          "output_type": "execute_result",
          "data": {
            "text/plain": [
              "array([[10],\n",
              "       [20],\n",
              "       [10],\n",
              "       [20]])"
            ]
          },
          "metadata": {},
          "execution_count": 33
        }
      ]
    },
    {
      "cell_type": "markdown",
      "source": [
        "Y si es horizontal ❓"
      ],
      "metadata": {
        "id": "OsagTDFaAsSX"
      }
    },
    {
      "cell_type": "code",
      "source": [
        "Array_apilados_h = np.XX ([Array_extra, Array_extra])\n",
        "Array_apilados_h"
      ],
      "metadata": {
        "colab": {
          "base_uri": "https://localhost:8080/",
          "height": 311
        },
        "id": "9KUeNZmrAsfI",
        "outputId": "92c6ec7a-d594-41ed-8ecf-6161b7462b91"
      },
      "execution_count": null,
      "outputs": [
        {
          "output_type": "error",
          "ename": "AttributeError",
          "evalue": "ignored",
          "traceback": [
            "\u001b[0;31m---------------------------------------------------------------------------\u001b[0m",
            "\u001b[0;31mAttributeError\u001b[0m                            Traceback (most recent call last)",
            "\u001b[0;32m<ipython-input-34-968be2a25952>\u001b[0m in \u001b[0;36m<module>\u001b[0;34m()\u001b[0m\n\u001b[0;32m----> 1\u001b[0;31m \u001b[0mArray_apilados_h\u001b[0m \u001b[0;34m=\u001b[0m \u001b[0mnp\u001b[0m\u001b[0;34m.\u001b[0m\u001b[0mXX\u001b[0m \u001b[0;34m(\u001b[0m\u001b[0;34m[\u001b[0m\u001b[0mArray_extra\u001b[0m\u001b[0;34m,\u001b[0m \u001b[0mArray_extra\u001b[0m\u001b[0;34m]\u001b[0m\u001b[0;34m)\u001b[0m\u001b[0;34m\u001b[0m\u001b[0;34m\u001b[0m\u001b[0m\n\u001b[0m\u001b[1;32m      2\u001b[0m \u001b[0mArray_apilados_h\u001b[0m\u001b[0;34m\u001b[0m\u001b[0;34m\u001b[0m\u001b[0m\n",
            "\u001b[0;32m/usr/local/lib/python3.7/dist-packages/numpy/__init__.py\u001b[0m in \u001b[0;36m__getattr__\u001b[0;34m(attr)\u001b[0m\n\u001b[1;32m    312\u001b[0m \u001b[0;34m\u001b[0m\u001b[0m\n\u001b[1;32m    313\u001b[0m             raise AttributeError(\"module {!r} has no attribute \"\n\u001b[0;32m--> 314\u001b[0;31m                                  \"{!r}\".format(__name__, attr))\n\u001b[0m\u001b[1;32m    315\u001b[0m \u001b[0;34m\u001b[0m\u001b[0m\n\u001b[1;32m    316\u001b[0m         \u001b[0;32mdef\u001b[0m \u001b[0m__dir__\u001b[0m\u001b[0;34m(\u001b[0m\u001b[0;34m)\u001b[0m\u001b[0;34m:\u001b[0m\u001b[0;34m\u001b[0m\u001b[0;34m\u001b[0m\u001b[0m\n",
            "\u001b[0;31mAttributeError\u001b[0m: module 'numpy' has no attribute 'XX'"
          ]
        }
      ]
    },
    {
      "cell_type": "markdown",
      "source": [
        "### Splitting\n",
        "\n",
        "Consiste en desarmar o partir los arreglos. Puede pensarse como la operación inversa a la concatenación\n",
        "\n"
      ],
      "metadata": {
        "id": "qQVUIgflaAIo"
      }
    },
    {
      "cell_type": "code",
      "source": [
        "Array_partido = np.split(Arrays_concatenados, [2])\n",
        "Array_partido"
      ],
      "metadata": {
        "colab": {
          "base_uri": "https://localhost:8080/"
        },
        "id": "cd-lburiAzTE",
        "outputId": "8c4ad916-b981-43ff-8eee-5ab69e2cb159"
      },
      "execution_count": null,
      "outputs": [
        {
          "output_type": "execute_result",
          "data": {
            "text/plain": [
              "[array([3, 3]), array([2, 8, 0, 6, 0, 5, 5, 2])]"
            ]
          },
          "metadata": {},
          "execution_count": 35
        }
      ]
    },
    {
      "cell_type": "markdown",
      "source": [
        "Especificamos los puntos de corte con un arreglo. En este caso queremos un único corte entre el segundo y tercer elemento\n"
      ],
      "metadata": {
        "id": "wSZfVxJyaJC7"
      }
    },
    {
      "cell_type": "code",
      "source": [
        "Array_partido_2 = np.split(Arrays_concatenados, [2, 8]) # dos puntos de corte\n",
        "Array_partido_2"
      ],
      "metadata": {
        "colab": {
          "base_uri": "https://localhost:8080/"
        },
        "id": "eFPKGitgaIi6",
        "outputId": "33048c6d-a625-4b5c-ffc1-26e2e07243c0"
      },
      "execution_count": null,
      "outputs": [
        {
          "output_type": "execute_result",
          "data": {
            "text/plain": [
              "[array([3, 3]), array([2, 8, 0, 6, 0, 5]), array([5, 2])]"
            ]
          },
          "metadata": {},
          "execution_count": 36
        }
      ]
    },
    {
      "cell_type": "code",
      "source": [
        "Parte_1, Parte_2, Parte_3 = Array_partido_2 # Podemos desarmar el arreglo y guardarlo en variables distintas\n"
      ],
      "metadata": {
        "id": "qiCFtHMraTNL"
      },
      "execution_count": null,
      "outputs": []
    },
    {
      "cell_type": "code",
      "source": [
        "Ajedrez_partido_1 = np.hsplit(Ajedrez_64, [4]) # corte horizontal\n",
        "Ajedrez_partido_1\n"
      ],
      "metadata": {
        "colab": {
          "base_uri": "https://localhost:8080/"
        },
        "id": "rSal0Tk5afTx",
        "outputId": "0e4bd5b8-c656-4753-95ff-3b2d6b1d75b5"
      },
      "execution_count": null,
      "outputs": [
        {
          "output_type": "execute_result",
          "data": {
            "text/plain": [
              "[array([[ 1,  2,  3,  4],\n",
              "        [ 9, 10, 11, 12],\n",
              "        [17, 18, 19, 20],\n",
              "        [25, 26, 27, 28],\n",
              "        [33, 34, 35, 36],\n",
              "        [41, 42, 43, 44],\n",
              "        [49, 50, 51, 52],\n",
              "        [57, 58, 59, 60]]), array([[ 5,  6,  7,  8],\n",
              "        [13, 14, 15, 16],\n",
              "        [21, 22, 23, 24],\n",
              "        [29, 30, 31, 32],\n",
              "        [37, 38, 39, 40],\n",
              "        [45, 46, 47, 48],\n",
              "        [53, 54, 55, 56],\n",
              "        [61, 62, 63, 64]])]"
            ]
          },
          "metadata": {},
          "execution_count": 38
        }
      ]
    },
    {
      "cell_type": "code",
      "source": [
        "Ajedrez_partido_2 = np.vsplit(Ajedrez_64, [4]) # corte vertical\n",
        "Ajedrez_partido_2"
      ],
      "metadata": {
        "colab": {
          "base_uri": "https://localhost:8080/"
        },
        "id": "b4kxgCznai4r",
        "outputId": "46b71b15-2435-4729-e265-acb55b5b9407"
      },
      "execution_count": null,
      "outputs": [
        {
          "output_type": "execute_result",
          "data": {
            "text/plain": [
              "[array([[ 1,  2,  3,  4,  5,  6,  7,  8],\n",
              "        [ 9, 10, 11, 12, 13, 14, 15, 16],\n",
              "        [17, 18, 19, 20, 21, 22, 23, 24],\n",
              "        [25, 26, 27, 28, 29, 30, 31, 32]]),\n",
              " array([[33, 34, 35, 36, 37, 38, 39, 40],\n",
              "        [41, 42, 43, 44, 45, 46, 47, 48],\n",
              "        [49, 50, 51, 52, 53, 54, 55, 56],\n",
              "        [57, 58, 59, 60, 61, 62, 63, 64]])]"
            ]
          },
          "metadata": {},
          "execution_count": 39
        }
      ]
    },
    {
      "cell_type": "markdown",
      "source": [
        "## Agregaciones y Operaciones vectorizadas\n",
        "\n",
        "Calculo del promedio:\n",
        "\n",
        "> Una solución tradicional al problema es la siguiente:\n",
        " \n",
        "> Si bien esta correcta la respuesta numpy nos facilita el labor"
      ],
      "metadata": {
        "id": "5nFW0wO9aoTz"
      }
    },
    {
      "cell_type": "code",
      "source": [
        "Array_aleatorio = np.random.randint(10, size=10)\n",
        "print(Array_aleatorio)\n",
        "suma = 0\n",
        "for i in Array_aleatorio:\n",
        "    suma += i\n",
        "promedio = suma / np.size(Array_aleatorio)\n"
      ],
      "metadata": {
        "colab": {
          "base_uri": "https://localhost:8080/"
        },
        "id": "uPYftbR_aqpz",
        "outputId": "0ee893b2-16a7-4af6-fdbd-e9bac6f7e741"
      },
      "execution_count": null,
      "outputs": [
        {
          "output_type": "stream",
          "name": "stdout",
          "text": [
            "[5 3 9 7 2 4 0 3 1 2]\n"
          ]
        }
      ]
    },
    {
      "cell_type": "markdown",
      "source": [
        "Estas funciones están optimizadas para grandes volúmenes de datos y además nos ahorran mucho código… 😉"
      ],
      "metadata": {
        "id": "AbWvJYBebPqh"
      }
    },
    {
      "cell_type": "code",
      "source": [
        "Array_aleatorio.sum()\n",
        "Array_aleatorio.mean()\n",
        "Array_aleatorio.max()\n",
        "Array_aleatorio.min()\n",
        "Array_aleatorio.std()\n"
      ],
      "metadata": {
        "colab": {
          "base_uri": "https://localhost:8080/"
        },
        "id": "1DDJpu2ga-Ju",
        "outputId": "62bc12d5-44c2-4c63-e3cd-2c442cbf7ef0"
      },
      "execution_count": null,
      "outputs": [
        {
          "output_type": "execute_result",
          "data": {
            "text/plain": [
              "2.615339366124404"
            ]
          },
          "metadata": {},
          "execution_count": 41
        }
      ]
    },
    {
      "cell_type": "code",
      "source": [
        "np.median(Array_aleatorio)\n",
        "np.std(Array_aleatorio)\n",
        "np.var(Array_aleatorio)"
      ],
      "metadata": {
        "colab": {
          "base_uri": "https://localhost:8080/"
        },
        "id": "b8ps9j5vbGa3",
        "outputId": "997d6e5e-fb02-4d97-9c50-d94f3185c42a"
      },
      "execution_count": null,
      "outputs": [
        {
          "output_type": "execute_result",
          "data": {
            "text/plain": [
              "6.840000000000001"
            ]
          },
          "metadata": {},
          "execution_count": 42
        }
      ]
    },
    {
      "cell_type": "markdown",
      "source": [
        "**¿Por qué son tan importantes?**\n",
        "\n",
        "* Incluso las operaciones más sencillas pueden resultar muy lentas si las llevamos a cabo elemento a elemento.\n",
        "* Las computadoras son especialmente buenas para realizar cálculos en paralelo 🖥️\n",
        "* Las operaciones vectorizadas o funciones universales (ufuncs) nos permiten operar entre arreglos de la manera más rápida posible"
      ],
      "metadata": {
        "id": "4eH7rmBqbWxd"
      }
    },
    {
      "cell_type": "markdown",
      "source": [
        "## Numpy para generar números aleatorios"
      ],
      "metadata": {
        "id": "OrOQyVuu5GZV"
      }
    },
    {
      "cell_type": "markdown",
      "source": [
        "De los múchos métodos y funcionalidades que tiene Numpy, encontramos la posibilidad de generar números aleatorios para poder probar con información \"inventada\"\n",
        "\n",
        "Si bien la documentación es amplia, podemos utilizar solo una parte para generar conjuntos de datos"
      ],
      "metadata": {
        "id": "ZaAh6gZ65iJt"
      }
    },
    {
      "cell_type": "markdown",
      "source": [
        "Lo mas simple es generar un número aleatorio (similar a la función del Excel)"
      ],
      "metadata": {
        "id": "vkLqJWkV8OTG"
      }
    },
    {
      "cell_type": "code",
      "source": [
        "np.random.random()"
      ],
      "metadata": {
        "colab": {
          "base_uri": "https://localhost:8080/"
        },
        "id": "r_dYH0HT7ws6",
        "outputId": "b2dacd16-9a06-45e8-f66a-81b30c98bff8"
      },
      "execution_count": null,
      "outputs": [
        {
          "output_type": "execute_result",
          "data": {
            "text/plain": [
              "0.36976654547837673"
            ]
          },
          "metadata": {},
          "execution_count": 6
        }
      ]
    },
    {
      "cell_type": "markdown",
      "source": [
        "Podemos notar que cada vez que ejecutamos la celda nos devuelve un número diferente. Para ello, podemos definir una semilla, es decir un valor para que cada vez que generemos un número \"aleatorio\", este sea el mismo"
      ],
      "metadata": {
        "id": "AcVmAu4L8XbI"
      }
    },
    {
      "cell_type": "code",
      "source": [
        "np.random.seed(200)\n",
        "np.random.random()"
      ],
      "metadata": {
        "colab": {
          "base_uri": "https://localhost:8080/"
        },
        "id": "zl8hcL0U8iVs",
        "outputId": "7c585cfd-8e1f-4f93-b65d-255bfe47b3ff"
      },
      "execution_count": null,
      "outputs": [
        {
          "output_type": "execute_result",
          "data": {
            "text/plain": [
              "0.9476322568516703"
            ]
          },
          "metadata": {},
          "execution_count": 10
        }
      ]
    },
    {
      "cell_type": "code",
      "source": [
        "np.random.random()"
      ],
      "metadata": {
        "colab": {
          "base_uri": "https://localhost:8080/"
        },
        "id": "WQImrUbr8nhw",
        "outputId": "3eb2101c-4368-4280-a05b-f212f5cfa7b4"
      },
      "execution_count": null,
      "outputs": [
        {
          "output_type": "execute_result",
          "data": {
            "text/plain": [
              "0.226547421131723"
            ]
          },
          "metadata": {},
          "execution_count": 11
        }
      ]
    },
    {
      "cell_type": "markdown",
      "source": [
        "Podemos generar un arreglo de varios números\n",
        "\n",
        "`random.randint(low, high=None, size=None, dtype=int)`"
      ],
      "metadata": {
        "id": "MMH5nQAGKvaq"
      }
    },
    {
      "cell_type": "code",
      "source": [
        "#low = desde\n",
        "#high = hasta\n",
        "#size = cantidad de números\n",
        "np.random.randint(low=1,high=50,size=15)"
      ],
      "metadata": {
        "colab": {
          "base_uri": "https://localhost:8080/"
        },
        "id": "2eUWiRgbLA33",
        "outputId": "c34f1404-a7a1-4403-f037-65b917d9de6a"
      },
      "execution_count": null,
      "outputs": [
        {
          "output_type": "execute_result",
          "data": {
            "text/plain": [
              "array([43, 13, 16, 26, 15, 28, 26, 12,  7, 43,  2,  8, 28, 10, 16])"
            ]
          },
          "metadata": {},
          "execution_count": 12
        }
      ]
    },
    {
      "cell_type": "markdown",
      "source": [
        "En ciertas oportunidades va a resultar conveniente generar números aleatorios con alguna `distribución` asociada. Vamos a verlo más adelante, pero podemos utilizar algunas de las más conocidas"
      ],
      "metadata": {
        "id": "ibk5zYLNLUvn"
      }
    },
    {
      "cell_type": "markdown",
      "source": [
        "*Distribución Normal*\n",
        "\n",
        "`random.normal(loc=0.0, scale=1.0, size=None)`"
      ],
      "metadata": {
        "id": "1WQvVWKnWmjV"
      }
    },
    {
      "cell_type": "code",
      "source": [
        "#loc = podemos entenderlo como el promedio\n",
        "#scale = podemos entenderlo como el desvío estandar\n",
        "#size = tamaño del array\n",
        "np.random.normal(loc=50,scale=5,size=100)"
      ],
      "metadata": {
        "colab": {
          "base_uri": "https://localhost:8080/"
        },
        "id": "g-wDNsMdW1eS",
        "outputId": "79ff781b-a71c-47ba-8e02-93815ac286fc"
      },
      "execution_count": null,
      "outputs": [
        {
          "output_type": "execute_result",
          "data": {
            "text/plain": [
              "array([55.99867262, 44.9496031 , 45.26248116, 51.36728008, 47.29137931,\n",
              "       47.08067669, 50.85082864, 40.38365567, 51.54718915, 49.58745591,\n",
              "       52.8630366 , 53.59204405, 50.49626641, 46.74974068, 52.94623975,\n",
              "       49.89433   , 52.35554913, 55.57491899, 53.79381499, 48.36454988,\n",
              "       55.27898018, 51.89445259, 46.56311576, 45.0292235 , 50.81166377,\n",
              "       45.56422612, 42.65552426, 50.05878111, 39.41368075, 50.1321104 ,\n",
              "       49.21515213, 41.32177506, 53.56269174, 41.90348108, 41.2477114 ,\n",
              "       50.80916755, 42.48530111, 55.66842071, 48.51060178, 46.9906809 ,\n",
              "       46.70833376, 41.53231662, 42.60545074, 53.65326155, 46.30626468,\n",
              "       54.98186291, 51.72073449, 53.25273551, 43.01562595, 46.31950902,\n",
              "       51.88419212, 48.21474515, 58.73488556, 45.32160044, 51.20943035,\n",
              "       42.37034359, 54.4983738 , 45.01831362, 55.52942486, 49.24421545,\n",
              "       46.02041706, 47.63579591, 52.06878785, 41.06502333, 49.05618729,\n",
              "       57.55664513, 56.93915937, 52.15657706, 54.19871243, 47.39573839,\n",
              "       49.06455507, 60.52889029, 47.89193731, 52.2415854 , 55.83733758,\n",
              "       44.79056295, 43.56118772, 52.57371299, 51.16414178, 50.77974375,\n",
              "       57.96881969, 51.5677111 , 59.63124631, 57.0061396 , 52.85967773,\n",
              "       47.78643111, 48.13740843, 51.72880109, 50.25038315, 55.81308817,\n",
              "       49.76511419, 33.27939041, 52.43633417, 54.1935284 , 55.7060812 ,\n",
              "       57.2819505 , 47.65447777, 52.03271883, 53.54814655, 56.76517542])"
            ]
          },
          "metadata": {},
          "execution_count": 23
        }
      ]
    },
    {
      "cell_type": "markdown",
      "source": [
        "## Ejercitación EXTRA"
      ],
      "metadata": {
        "id": "0mJlt7GR26dT"
      }
    },
    {
      "cell_type": "markdown",
      "source": [
        "**Ejercicio 7**: Calcular la suma de los primeros 1000 números pares"
      ],
      "metadata": {
        "id": "eAnJwKc_3Jsk"
      }
    },
    {
      "cell_type": "code",
      "source": [],
      "metadata": {
        "id": "cw6oa3mU28D_"
      },
      "execution_count": null,
      "outputs": []
    },
    {
      "cell_type": "markdown",
      "source": [
        "**Ejercicio 8**: A partir de una distribución Normal con loc = 100 y scale = 30 generar:\n",
        "\n",
        "1 array de 50 números\n",
        "\n",
        "1 array de 500 números\n",
        "\n",
        "1 array de 1000 números\n",
        "\n",
        "1 array de 10.000 números\n",
        "\n",
        "Para cada uno de ellos, calcular el promedio y el desvío. Algo que llame la atención?"
      ],
      "metadata": {
        "id": "4X0UsJkeXlVs"
      }
    },
    {
      "cell_type": "code",
      "source": [],
      "metadata": {
        "id": "n2LVK48XYGKU"
      },
      "execution_count": null,
      "outputs": []
    }
  ]
}